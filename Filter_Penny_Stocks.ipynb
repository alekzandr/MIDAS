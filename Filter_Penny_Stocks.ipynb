{
 "cells": [
  {
   "cell_type": "code",
   "execution_count": 1,
   "id": "going-paris",
   "metadata": {},
   "outputs": [],
   "source": [
    "#!/usr/bin/env python\n",
    "# coding: utf-8\n",
    "\n",
    "# In[1]:\n",
    "\n",
    "\n",
    "# Necessary Libraries\n",
    "import yfinance as yf, pandas as pd, shutil, os, time, glob, smtplib, ssl\n",
    "from datetime import datetime\n",
    "#from get_all_tickers import get_tickers as gt\n",
    "\n",
    "\n",
    "# In[2]:\n",
    "\n",
    "#tickers = gt.get_tickers_filtered(mktcap_min=1500, mktcap_max=1000000000)\n",
    "#tickers = gt.get_tickers(AMEX=False, NASDAQ=False)\n"
   ]
  },
  {
   "cell_type": "code",
   "execution_count": 2,
   "id": "guilty-hardware",
   "metadata": {},
   "outputs": [
    {
     "name": "stderr",
     "output_type": "stream",
     "text": [
      "<ipython-input-2-2910f85a196d>:4: FutureWarning: The default value of regex will change from True to False in a future version. In addition, single character regular expressions will*not* be treated as literal strings when regex=True.\n",
      "  tickers_df['Last Sale'] = tickers_df['Last Sale'].str.replace('$', '')\n"
     ]
    }
   ],
   "source": [
    "# Read NASDAQ Stocks\n",
    "\n",
    "tickers_df = pd.read_csv('nasdaq_screener.csv')\n",
    "tickers_df['Last Sale'] = tickers_df['Last Sale'].str.replace('$', '')\n",
    "tickers_df['Last Sale'] = tickers_df['Last Sale'].astype(float)\n",
    "filtered_penny_stocks = tickers_df[tickers_df['Last Sale'] > 0]\n",
    "tickers = filtered_penny_stocks['Symbol']\n",
    "tickers = tickers.reset_index()\n",
    "tickers.drop('index', axis=1, inplace=True)\n",
    "tickers = tickers['Symbol']"
   ]
  },
  {
   "cell_type": "code",
   "execution_count": 3,
   "id": "flush-teach",
   "metadata": {},
   "outputs": [
    {
     "name": "stderr",
     "output_type": "stream",
     "text": [
      "<ipython-input-3-17b795cc140d>:4: FutureWarning: The default value of regex will change from True to False in a future version. In addition, single character regular expressions will*not* be treated as literal strings when regex=True.\n",
      "  tickers_df['Last Sale'] = tickers_df['Last Sale'].str.replace('$', '')\n"
     ]
    }
   ],
   "source": [
    "# Read NYSE Stocks\n",
    "\n",
    "tickers_df = pd.read_csv('nasdaq_screener_nyse.csv')\n",
    "tickers_df['Last Sale'] = tickers_df['Last Sale'].str.replace('$', '')\n",
    "tickers_df['Last Sale'] = tickers_df['Last Sale'].astype(float)\n",
    "filtered_penny_stocks = tickers_df[tickers_df['Last Sale'] > 0]\n",
    "tickers_nyse = filtered_penny_stocks['Symbol']\n",
    "tickers_nyse = tickers_nyse.reset_index()\n",
    "tickers_nyse.drop('index', axis=1, inplace=True)\n",
    "final_tickers = tickers_nyse['Symbol']"
   ]
  },
  {
   "cell_type": "code",
   "execution_count": 4,
   "id": "mathematical-mistress",
   "metadata": {},
   "outputs": [],
   "source": [
    "l = tickers.to_list()\n",
    "k = final_tickers.to_list()\n",
    "tickers = l+k"
   ]
  },
  {
   "cell_type": "code",
   "execution_count": 5,
   "id": "reduced-slave",
   "metadata": {},
   "outputs": [
    {
     "name": "stdout",
     "output_type": "stream",
     "text": [
      "The amount of stocks chosen to observe: 2157\n"
     ]
    }
   ],
   "source": [
    "print(\"The amount of stocks chosen to observe: \" + str(len(tickers)))"
   ]
  },
  {
   "cell_type": "code",
   "execution_count": 6,
   "id": "fundamental-junction",
   "metadata": {},
   "outputs": [
    {
     "name": "stdout",
     "output_type": "stream",
     "text": [
      "[-] Started at 2021-12-24 21:58:07.761705\n",
      "[+] Completed at 2021-12-24 22:37:42.156087\n",
      "[*] Total Time: 0:39:34.394382\n",
      "The amount of stocks we successfully imported: 2157\n"
     ]
    }
   ],
   "source": [
    "# In[4]:\n",
    "\n",
    "\n",
    "FILE_PATH = r'/home/alekzandr/Documents/robinhood/Daily_Stock_Report/Stocks/'\n",
    "\n",
    "if os.path.exists(FILE_PATH):\n",
    "    shutil.rmtree(FILE_PATH)\n",
    "    os.makedirs(FILE_PATH)\n",
    "else:\n",
    "    os.makedirs(FILE_PATH)\n",
    "\n",
    "\n",
    "# In[5]:\n",
    "\n",
    "\n",
    "# Holds the amount of API calls we executed\n",
    "Amount_of_API_Calls = 0\n",
    "\n",
    "# This while loop is reponsible for storing the historical data for each ticker in our list. Note that yahoo finance sometimes incurs json.decode errors and because of this we are sleeping for 2\n",
    "# seconds after each iteration, also if a call fails we are going to try to execute it again.\n",
    "# Also, do not make more than 2,000 calls per hour or 48,000 calls per day or Yahoo Finance may block your IP. The clause \"(Amount_of_API_Calls < 1800)\" below will stop the loop from making\n",
    "# too many calls to the yfinance API.\n",
    "# Prepare for this loop to take some time. It is pausing for 2 seconds after importing each stock.\n",
    "\n",
    "# Used to make sure we don't waste too many API calls on one Stock ticker that could be having issues\n",
    "Stock_Failure = 0\n",
    "Stocks_Not_Imported = 0\n",
    "\n",
    "# Used to iterate through our list of tickers\n",
    "start_time = datetime.now()\n",
    "print(\"[-] Started at \" + str(start_time))\n",
    "i=0\n",
    "while (i < len(tickers)) and (Amount_of_API_Calls < 3000):\n",
    "    try:\n",
    "        stock = tickers[i]  # Gets the current stock ticker\n",
    "        temp = yf.Ticker(str(stock))\n",
    "        Hist_data = temp.history(period=\"max\")  # Tells yfinance what kind of data we want about this stock (In this example, all of the historical data)\n",
    "        Hist_data.to_csv(FILE_PATH+stock+\".csv\")  # Saves the historical data in csv format for further processing later\n",
    "        time.sleep(0.5)  # Pauses the loop for one seconds so we don't cause issues with Yahoo Finance's backend operations\n",
    "        Amount_of_API_Calls += 1 \n",
    "        Stock_Failure = 0\n",
    "        i += 1  # Iteration to the next ticker\n",
    "    except ValueError:\n",
    "        print(\"Yahoo Finance Backend Error, Attempting to Fix\")  # An error occured on Yahoo Finance's backend. We will attempt to retreive the data again\n",
    "        if Stock_Failure > 5:  # Move on to the next ticker if the current ticker fails more than 5 times\n",
    "            i+=1\n",
    "            Stocks_Not_Imported += 1\n",
    "        Amount_of_API_Calls += 1\n",
    "        Stock_Failure += 1\n",
    "end_time = datetime.now()\n",
    "print(\"[+] Completed at \" + str(end_time))\n",
    "print(\"[*] Total Time: \" + str(end_time - start_time))\n",
    "print(\"The amount of stocks we successfully imported: \" + str(i - Stocks_Not_Imported))\n",
    "\n",
    "\n",
    "# In[2]:\n",
    "\n",
    "\n",
    "list_files = (glob.glob(\"/home/alekzandr/Documents/robinhood/Daily_Stock_Report/Stocks/*.csv\"))\n",
    "new_data = [] #  This will be a 2D array to hold our stock name and OBV score\n",
    "interval = 0  # Used for iteration\n",
    "while interval < len(list_files):\n",
    "    file = list_files[interval]\n",
    "    Data = pd.read_csv(file).tail(20)\n",
    "    if (len(Data) < 20):\n",
    "        os.remove(file)\n",
    "    interval += 1\n",
    "\n",
    "\n",
    "# In[ ]:"
   ]
  },
  {
   "cell_type": "code",
   "execution_count": 7,
   "id": "ordered-carpet",
   "metadata": {},
   "outputs": [
    {
     "name": "stdout",
     "output_type": "stream",
     "text": [
      "Printing Top 10\n",
      "\n",
      "  Stock  OBV_Value  Stocks_Ranked\n",
      "0   EDU   27541207            1.0\n",
      "1  WISH   19768990            2.0\n",
      "2    ET   16833397            3.0\n",
      "3   CIG   16536230            4.0\n",
      "4   PBR   14950150            5.0\n",
      "5    LU   14389243            6.0\n",
      "6   TME   13840226            7.0\n",
      "7   OPK   10617995            8.0\n",
      "8  ZNGA    8942508            9.0\n",
      "9   AMC    8054774           10.0\n",
      "\n",
      "Printing Bottom 10\n",
      "\n",
      "     Stock  OBV_Value  Stocks_Ranked\n",
      "2143   HMY  -16683081         2144.0\n",
      "2144     F  -18386673         2145.0\n",
      "2145   SAN  -19192185         2146.0\n",
      "2146   KGC  -21440436         2147.0\n",
      "2147   NLY  -21964318         2148.0\n",
      "2148  DIDI  -22806499         2149.0\n",
      "2149   BBD  -37619311         2150.0\n",
      "2150   SWN  -45735905         2151.0\n",
      "2151  ABEV  -62596678         2152.0\n",
      "2152  ITUB  -80817064         2153.0\n"
     ]
    }
   ],
   "source": [
    "# OBV Analysis, feel free to replace this section with your own analysis -------------------------------------------------------------------------\n",
    "list_files = (glob.glob(\"/home/alekzandr/Documents/robinhood/Daily_Stock_Report/Stocks/*.csv\")) # Creates a list of all csv filenames in the stocks folder\n",
    "new_data = [] #  This will be a 2D array to hold our stock name and OBV score\n",
    "interval = 0  # Used for iteration\n",
    "while interval < len(list_files):\n",
    "    file = list_files[interval]\n",
    "    Data = pd.read_csv(file).tail(20)  # Gets the last 20 days of trading for the current stock in iteration\n",
    "    #print(Data.iloc[0,0], Data.iloc[-1,0])\n",
    "    #break\n",
    "    pos_move = []  # List of days that the stock price increased\n",
    "    neg_move = []  # List of days that the stock price increased\n",
    "    OBV_Value = 0  # Sets the initial OBV_Value to zero\n",
    "    count = 0\n",
    "    while (count < 20):  # 10 because we are looking at the last 10 trading days\n",
    "        if Data.iloc[count,1] < Data.iloc[count,4]:  # True if the stock increased in price\n",
    "            pos_move.append(count)  # Add the day to the pos_move list\n",
    "        elif Data.iloc[count,1] > Data.iloc[count,4]:  # True if the stock decreased in price\n",
    "            neg_move.append(count)  # Add the day to the neg_move list\n",
    "        count += 1\n",
    "    count2 = 0\n",
    "    for i in pos_move:  # Adds the volumes of positive days to OBV_Value, divide by opening price to normalize across all stocks\n",
    "        OBV_Value = round(OBV_Value + (Data.iloc[i,5]/Data.iloc[i,1]))\n",
    "    for i in neg_move:  # Subtracts the volumes of negative days from OBV_Value, divide by opening price to normalize across all stocks\n",
    "        OBV_Value = round(OBV_Value - (Data.iloc[i,5]/Data.iloc[i,1]))\n",
    "    Stock_Name = ((os.path.basename(list_files[interval])).split(\".csv\")[0])  # Get the name of the current stock we are analyzing\n",
    "    new_data.append([Stock_Name, OBV_Value])  # Add the stock name and OBV value to the new_data list\n",
    "    interval += 1\n",
    "\n",
    "\n",
    "# In[ ]:\n",
    "\n",
    "\n",
    "df = pd.DataFrame(new_data, columns = ['Stock', 'OBV_Value'])  # Creates a new dataframe from the new_data list\n",
    "df[\"Stocks_Ranked\"] = df[\"OBV_Value\"].rank(ascending = False)  # Rank the stocks by their OBV_Values\n",
    "df.sort_values(\"OBV_Value\", inplace = True, ascending = False)  # Sort the ranked stocks\n",
    "df.to_csv(\"/home/alekzandr/Documents/robinhood/Daily_Stock_Report/OBV_Ranked.csv\", index = False)  # Save the dataframe to a csv without the index column\n",
    "# OBV_Ranked.csv now contains the ranked stocks that we want recalculate daily and receive in a digestable format.\n",
    "\n",
    "# Code to email yourself your anaysis -----------------------------------------------------------------------------------\n",
    "Analysis = pd.read_csv(\"/home/alekzandr/Documents/robinhood/Daily_Stock_Report/OBV_Ranked.csv\")  # Read in the ranked stocks\n",
    "\n",
    "\n",
    "# In[ ]:\n",
    "\n",
    "\n",
    "top10 = Analysis.head(10)  # I want to see the 10 stocks in my analysis with the highest OBV values\n",
    "bottom10 = Analysis.tail(10)  # I also want to see the 10 stocks in my analysis with the lowest OBV values\n",
    "\n",
    "print(\"Printing Top 10\\n\")\n",
    "print(top10)\n",
    "print(\"\\nPrinting Bottom 10\\n\")\n",
    "print(bottom10)\n",
    "\n",
    "\n",
    "# In[ ]:\n",
    "\n",
    "\n",
    "# This is where we write the body of our email. Add the top 10 and bottom 10 dataframes to include the results of your analysis\n",
    "Body_of_Email = \"\"\"Subject: Daily Stock Report - EXPANDED\n",
    "\n",
    "Your highest ranked OBV stocks of the day:\n",
    "\n",
    "\"\"\" + top10.to_string(index=False) + \"\"\"\\\n",
    "\n",
    "\n",
    "Your lowest ranked OBV stocks of the day:\n",
    "\n",
    "\"\"\" + bottom10.to_string(index=False) + \"\"\"\\\n",
    "\n",
    "\n",
    "Sincerely,\n",
    "Your Computer\"\"\"\n",
    "\n",
    "context = ssl.create_default_context()\n",
    "Email_Port = 465  # If you are not using a gmail account, you will need to look up the port for your specific email host\n",
    "with smtplib.SMTP_SSL(\"smtp.gmail.com\", Email_Port, context=context) as server:\n",
    "    server.login(\"kyle.topasna@gmail.com\", \"fkwbhlnatcsnoznr\")  #  This statement is of the form: server.login(<Your email>, \"Your email password\")\n",
    "    server.sendmail(\"kyle.topasna@gmail.com\", \"kyle.topasna@gmail.com\", Body_of_Email)  # This statement is of the form: server.sendmail(<Your email>, <Email receiving message>, Body_of_Email)\n",
    "\n",
    "\n",
    "# In[ ]:\n"
   ]
  },
  {
   "cell_type": "code",
   "execution_count": null,
   "id": "hollow-clone",
   "metadata": {},
   "outputs": [],
   "source": [
    "Printing Top 10\n",
    "\n",
    "  Stock  OBV_Value  Stocks_Ranked\n",
    "0  ITUB   68479911            1.0\n",
    "1   AMC   50615116            2.0\n",
    "2  CLOV   48935005            3.0\n",
    "3  ABEV   45558246            4.0\n",
    "4  BNGO   38285105            5.0\n",
    "5   BBD   29142643            6.0\n",
    "6   PBR   28694003            7.0\n",
    "7  RIDE   22727850            8.0\n",
    "8  BRFS   21498368            9.0\n",
    "9  SIRI   18071353           10.0"
   ]
  },
  {
   "cell_type": "code",
   "execution_count": null,
   "id": "overhead-toddler",
   "metadata": {},
   "outputs": [],
   "source": [
    "Printing Top 10\n",
    "\n",
    "  Stock  OBV_Value  Stocks_Ranked\n",
    "0   AMC   71967011            1.0\n",
    "1  ITUB   55505144            2.0\n",
    "2  CLOV   54434422            3.0\n",
    "3  ABEV   41915782            4.0\n",
    "4   BBD   29137637            5.0\n",
    "5   PBR   22068543            6.0\n",
    "6  BNGO   20997150            7.0\n",
    "7  BRFS   20778627            8.0\n",
    "8  NNDM   17641132            9.0\n",
    "9  SIRI   17357680           10.0"
   ]
  }
 ],
 "metadata": {
  "kernelspec": {
   "display_name": "Python 3",
   "language": "python",
   "name": "python3"
  },
  "language_info": {
   "codemirror_mode": {
    "name": "ipython",
    "version": 3
   },
   "file_extension": ".py",
   "mimetype": "text/x-python",
   "name": "python",
   "nbconvert_exporter": "python",
   "pygments_lexer": "ipython3",
   "version": "3.9.1"
  }
 },
 "nbformat": 4,
 "nbformat_minor": 5
}
