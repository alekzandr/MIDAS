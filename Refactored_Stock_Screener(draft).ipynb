{
 "cells": [
  {
   "cell_type": "code",
   "execution_count": 1,
   "id": "collect-infrared",
   "metadata": {},
   "outputs": [],
   "source": [
    "import sys\n",
    "import os\n",
    "import glob\n",
    "import pandas as pd\n",
    "import numpy as np"
   ]
  },
  {
   "cell_type": "code",
   "execution_count": 2,
   "id": "deadly-breast",
   "metadata": {},
   "outputs": [],
   "source": [
    "#CONSTANTS\n",
    "STOCK_PATH = \"/home/alekzandr/Documents/robinhood/Daily_Stock_Report/Stocks/\""
   ]
  },
  {
   "cell_type": "code",
   "execution_count": 3,
   "id": "median-rochester",
   "metadata": {},
   "outputs": [],
   "source": [
    "def get_ema(stock_file, history):\n",
    "    column_name = 'ewm_' + str(history)\n",
    "    finance_data = pd.read_csv(stock_file)\n",
    "    finance_data[column_name] = finance_data['Close'].ewm(span=history,min_periods=0,adjust=False,ignore_na=False).mean()\n",
    "    return finance_data\n",
    "\n",
    "def get_sma(stock_file, history):\n",
    "    column_name = 'sma' + str(history)\n",
    "    finance_data = pd.read_csv(stock_file)\n",
    "    finance_data[column_name] = finance_data['Close'].rolling(window=history).mean()\n",
    "    return finance_data\n",
    "\n",
    "def get_stock_list_path(stocks, path_to_stock_history):\n",
    "    list_files = []\n",
    "    for stock in stocks:\n",
    "        list_files.append(path_to_stock_history + stock + \".csv\")\n",
    "    return list_files\n",
    "\n",
    "def get_obv(list_files, history=20):\n",
    "\n",
    "    # OBV Analysis, feel free to replace this section with your own analysis -------------------------------------------------------------------------\n",
    "    new_data = [] #  This will be a 2D array to hold our stock name and OBV score\n",
    "    interval = 0  # Used for iteration\n",
    "    while interval < len(list_files):\n",
    "        file = list_files[interval]\n",
    "        Data = pd.read_csv(file).tail(history)  # Gets the last 10 days of trading for the current stock in iteration\n",
    "        pos_move = []  # List of days that the stock price increased\n",
    "        neg_move = []  # List of days that the stock price increased\n",
    "        OBV_Value = 0  # Sets the initial OBV_Value to zero\n",
    "        count = 0\n",
    "        while (count < history):  # 20 because we are looking at the last 10 trading days\n",
    "            if Data.iloc[count,1] < Data.iloc[count,4]:  # True if the stock increased in price\n",
    "                pos_move.append(count)  # Add the day to the pos_move list\n",
    "            elif Data.iloc[count,1] > Data.iloc[count,4]:  # True if the stock decreased in price\n",
    "                neg_move.append(count)  # Add the day to the neg_move list\n",
    "            count += 1\n",
    "        count2 = 0\n",
    "        for i in pos_move:  # Adds the volumes of positive days to OBV_Value, divide by opening price to normalize across all stocks\n",
    "            OBV_Value = round(OBV_Value + (Data.iloc[i,5]/Data.iloc[i,1]))\n",
    "        for i in neg_move:  # Subtracts the volumes of negative days from OBV_Value, divide by opening price to normalize across all stocks\n",
    "            OBV_Value = round(OBV_Value - (Data.iloc[i,5]/Data.iloc[i,1]))\n",
    "        Stock_Name = ((os.path.basename(list_files[interval])).split(\".csv\")[0])  # Get the name of the current stock we are analyzing\n",
    "        new_data.append([Stock_Name, OBV_Value])  # Add the stock name and OBV value to the new_data list\n",
    "        interval += 1\n",
    "        \n",
    "    return new_data"
   ]
  },
  {
   "cell_type": "code",
   "execution_count": 4,
   "id": "developing-kruger",
   "metadata": {},
   "outputs": [],
   "source": [
    "# Get a list of the Stocks\n",
    "list_files = (glob.glob(\"/home/alekzandr/Documents/robinhood/Daily_Stock_Report/Stocks/*.csv\"))\n",
    "obv_data = get_obv(list_files)"
   ]
  },
  {
   "cell_type": "code",
   "execution_count": 5,
   "id": "robust-medicaid",
   "metadata": {},
   "outputs": [],
   "source": [
    "obv_sorted = pd.DataFrame(obv_data, columns = ['Stock', 'OBV_Value'])  # Creates a new dataframe from the new_data list\n",
    "obv_sorted[\"Stocks_Ranked\"] = obv_sorted[\"OBV_Value\"].rank(ascending = False)  # Rank the stocks by their OBV_Values\n",
    "obv_sorted.sort_values(\"OBV_Value\", inplace = True, ascending = False)  # Sort the ranked stocks"
   ]
  },
  {
   "cell_type": "code",
   "execution_count": 6,
   "id": "streaming-marathon",
   "metadata": {},
   "outputs": [],
   "source": [
    "potential_stocks = obv_sorted[\"Stock\"].head(100).tolist()\n",
    "list_files = get_stock_list_path(potential_stocks, STOCK_PATH)"
   ]
  },
  {
   "cell_type": "code",
   "execution_count": null,
   "id": "wooden-philip",
   "metadata": {},
   "outputs": [],
   "source": [
    "list_files = (glob.glob(STOCK_PATH+\"*.csv\"))\n",
    "i = 0\n",
    "while (i < len(list_files)):\n",
    "    \n",
    "    # Get EWA for 5 Days\n",
    "    data = get_ema(list_files[i], 5)\n",
    "    try:\n",
    "        data.drop('Unnamed: 0', axis=1, inplace=True)\n",
    "    except:\n",
    "        pass\n",
    "    \n",
    "    # Get EWA for 20 Days\n",
    "    data.to_csv(list_files[i], index=False)\n",
    "    \n",
    "    data = get_ema(list_files[i], 20)\n",
    "    try:\n",
    "        data.drop('Unnamed: 0', axis=1, inplace=True)\n",
    "    except:\n",
    "        pass\n",
    "    \n",
    "    data.to_csv(list_files[i], index=False)\n",
    "    \n",
    "    # Get SMA for 5 Days\n",
    "    data.to_csv(list_files[i], index=False)\n",
    "    \n",
    "    data = get_sma(list_files[i], 5)\n",
    "    try:\n",
    "        data.drop('Unnamed: 0', axis=1, inplace=True)\n",
    "    except:\n",
    "        pass\n",
    "    \n",
    "    data.to_csv(list_files[i], index=False)\n",
    "    \n",
    "    # Get SMA for 20 Days\n",
    "    data.to_csv(list_files[i], index=False)\n",
    "    data = get_sma(list_files[i], 20)\n",
    "    try:\n",
    "        data.drop('Unnamed: 0', axis=1, inplace=True)\n",
    "    except:\n",
    "        pass\n",
    "    \n",
    "    data.to_csv(list_files[i], index=False)\n",
    "    \n",
    "    i += 1"
   ]
  },
  {
   "cell_type": "code",
   "execution_count": 9,
   "id": "comfortable-blair",
   "metadata": {},
   "outputs": [],
   "source": [
    "i = 0\n",
    "temp_data = []\n",
    "while i < len(list_files):\n",
    "    # Read in CSV files\n",
    "    file = list_files[i]\n",
    "    stock_data = pd.read_csv(file)\n",
    "    last_entry = stock_data.iloc[-1]\n",
    "    \n",
    "    # Get stock symbol\n",
    "    stock_name = ((os.path.basename(list_files[i])).split(\".csv\")[0])\n",
    "    \n",
    "    temp_data.append([stock_name, stock_data.iloc[-1,0], stock_data.iloc[-1,4], \n",
    "                    stock_data.iloc[-1,8], stock_data.iloc[-1,9],\n",
    "                     stock_data.iloc[-1,10], stock_data.iloc[-1,11]])\n",
    "    i += 1\n",
    "    \n",
    "    \n",
    "screened_stocks = pd.DataFrame(temp_data, columns=['stock','date', 'close', 'ewa_short', 'ewa_long', 'sma_short', 'sma_long'])"
   ]
  },
  {
   "cell_type": "code",
   "execution_count": 10,
   "id": "offensive-peripheral",
   "metadata": {},
   "outputs": [],
   "source": [
    "screened_ewa = screened_stocks[screened_stocks['ewa_short'] > screened_stocks['ewa_long']]\n",
    "final_screened = screened_ewa[screened_ewa['sma_short'] > screened_ewa['sma_long']]"
   ]
  },
  {
   "cell_type": "code",
   "execution_count": 11,
   "id": "curious-harvey",
   "metadata": {},
   "outputs": [
    {
     "name": "stderr",
     "output_type": "stream",
     "text": [
      "<ipython-input-11-c5d2cd54928e>:1: SettingWithCopyWarning: \n",
      "A value is trying to be set on a copy of a slice from a DataFrame.\n",
      "Try using .loc[row_indexer,col_indexer] = value instead\n",
      "\n",
      "See the caveats in the documentation: https://pandas.pydata.org/pandas-docs/stable/user_guide/indexing.html#returning-a-view-versus-a-copy\n",
      "  final_screened['ewa_change'] = (final_screened['ewa_short'] - final_screened['ewa_long']) / final_screened['ewa_long'] * 100\n",
      "<ipython-input-11-c5d2cd54928e>:2: SettingWithCopyWarning: \n",
      "A value is trying to be set on a copy of a slice from a DataFrame.\n",
      "Try using .loc[row_indexer,col_indexer] = value instead\n",
      "\n",
      "See the caveats in the documentation: https://pandas.pydata.org/pandas-docs/stable/user_guide/indexing.html#returning-a-view-versus-a-copy\n",
      "  final_screened['sma_change'] = (final_screened['sma_short'] - final_screened['sma_long']) / final_screened['sma_long'] * 100\n"
     ]
    }
   ],
   "source": [
    "final_screened['ewa_change'] = (final_screened['ewa_short'] - final_screened['ewa_long']) / final_screened['ewa_long'] * 100\n",
    "final_screened['sma_change'] = (final_screened['sma_short'] - final_screened['sma_long']) / final_screened['sma_long'] * 100"
   ]
  },
  {
   "cell_type": "code",
   "execution_count": 12,
   "id": "centered-fossil",
   "metadata": {},
   "outputs": [
    {
     "data": {
      "text/html": [
       "<div>\n",
       "<style scoped>\n",
       "    .dataframe tbody tr th:only-of-type {\n",
       "        vertical-align: middle;\n",
       "    }\n",
       "\n",
       "    .dataframe tbody tr th {\n",
       "        vertical-align: top;\n",
       "    }\n",
       "\n",
       "    .dataframe thead th {\n",
       "        text-align: right;\n",
       "    }\n",
       "</style>\n",
       "<table border=\"1\" class=\"dataframe\">\n",
       "  <thead>\n",
       "    <tr style=\"text-align: right;\">\n",
       "      <th></th>\n",
       "      <th>stock</th>\n",
       "      <th>date</th>\n",
       "      <th>close</th>\n",
       "      <th>ewa_short</th>\n",
       "      <th>ewa_long</th>\n",
       "      <th>sma_short</th>\n",
       "      <th>sma_long</th>\n",
       "      <th>ewa_change</th>\n",
       "      <th>sma_change</th>\n",
       "    </tr>\n",
       "  </thead>\n",
       "  <tbody>\n",
       "    <tr>\n",
       "      <th>0</th>\n",
       "      <td>SEEL</td>\n",
       "      <td>2021-04-01</td>\n",
       "      <td>5.08</td>\n",
       "      <td>4.794835</td>\n",
       "      <td>4.179787</td>\n",
       "      <td>4.714</td>\n",
       "      <td>4.04950</td>\n",
       "      <td>14.714826</td>\n",
       "      <td>16.409434</td>\n",
       "    </tr>\n",
       "    <tr>\n",
       "      <th>1</th>\n",
       "      <td>CLVS</td>\n",
       "      <td>2021-04-01</td>\n",
       "      <td>6.99</td>\n",
       "      <td>6.816792</td>\n",
       "      <td>6.549230</td>\n",
       "      <td>6.710</td>\n",
       "      <td>6.31450</td>\n",
       "      <td>4.085397</td>\n",
       "      <td>6.263363</td>\n",
       "    </tr>\n",
       "    <tr>\n",
       "      <th>2</th>\n",
       "      <td>JFIN</td>\n",
       "      <td>2021-04-01</td>\n",
       "      <td>8.47</td>\n",
       "      <td>8.569106</td>\n",
       "      <td>7.591086</td>\n",
       "      <td>8.418</td>\n",
       "      <td>7.08450</td>\n",
       "      <td>12.883800</td>\n",
       "      <td>18.822781</td>\n",
       "    </tr>\n",
       "    <tr>\n",
       "      <th>3</th>\n",
       "      <td>APTO</td>\n",
       "      <td>2021-04-01</td>\n",
       "      <td>6.00</td>\n",
       "      <td>5.880067</td>\n",
       "      <td>4.970512</td>\n",
       "      <td>5.998</td>\n",
       "      <td>4.57950</td>\n",
       "      <td>18.299022</td>\n",
       "      <td>30.974996</td>\n",
       "    </tr>\n",
       "    <tr>\n",
       "      <th>4</th>\n",
       "      <td>PRQR</td>\n",
       "      <td>2021-04-01</td>\n",
       "      <td>6.54</td>\n",
       "      <td>6.907800</td>\n",
       "      <td>6.194271</td>\n",
       "      <td>7.259</td>\n",
       "      <td>5.89525</td>\n",
       "      <td>11.519177</td>\n",
       "      <td>23.133032</td>\n",
       "    </tr>\n",
       "  </tbody>\n",
       "</table>\n",
       "</div>"
      ],
      "text/plain": [
       "  stock        date  close  ewa_short  ewa_long  sma_short  sma_long  \\\n",
       "0  SEEL  2021-04-01   5.08   4.794835  4.179787      4.714   4.04950   \n",
       "1  CLVS  2021-04-01   6.99   6.816792  6.549230      6.710   6.31450   \n",
       "2  JFIN  2021-04-01   8.47   8.569106  7.591086      8.418   7.08450   \n",
       "3  APTO  2021-04-01   6.00   5.880067  4.970512      5.998   4.57950   \n",
       "4  PRQR  2021-04-01   6.54   6.907800  6.194271      7.259   5.89525   \n",
       "\n",
       "   ewa_change  sma_change  \n",
       "0   14.714826   16.409434  \n",
       "1    4.085397    6.263363  \n",
       "2   12.883800   18.822781  \n",
       "3   18.299022   30.974996  \n",
       "4   11.519177   23.133032  "
      ]
     },
     "execution_count": 12,
     "metadata": {},
     "output_type": "execute_result"
    }
   ],
   "source": [
    "final_screened.head()"
   ]
  },
  {
   "cell_type": "code",
   "execution_count": 13,
   "id": "given-unknown",
   "metadata": {},
   "outputs": [
    {
     "name": "stderr",
     "output_type": "stream",
     "text": [
      "<ipython-input-13-1e5c1ae8c8ba>:1: SettingWithCopyWarning: \n",
      "A value is trying to be set on a copy of a slice from a DataFrame\n",
      "\n",
      "See the caveats in the documentation: https://pandas.pydata.org/pandas-docs/stable/user_guide/indexing.html#returning-a-view-versus-a-copy\n",
      "  final_screened.sort_values('sma_change', ascending = False, inplace=True)\n"
     ]
    }
   ],
   "source": [
    "final_screened.sort_values('sma_change', ascending = False, inplace=True)"
   ]
  },
  {
   "cell_type": "code",
   "execution_count": 14,
   "id": "treated-bunny",
   "metadata": {},
   "outputs": [
    {
     "name": "stdout",
     "output_type": "stream",
     "text": [
      "   stock        date      close  ewa_short   ewa_long  sma_short  sma_long  \\\n",
      "58  FRST  2021-04-01  15.060000  10.552780   4.023287      9.030   2.41700   \n",
      "3   APTO  2021-04-01   6.000000   5.880067   4.970512      5.998   4.57950   \n",
      "4   PRQR  2021-04-01   6.540000   6.907800   6.194271      7.259   5.89525   \n",
      "2   JFIN  2021-04-01   8.470000   8.569106   7.591086      8.418   7.08450   \n",
      "79  AMTX  2021-04-01  26.150000  24.106142  20.318287     23.608  20.06550   \n",
      "0   SEEL  2021-04-01   5.080000   4.794835   4.179787      4.714   4.04950   \n",
      "14  BOWX  2021-04-01  12.930000  11.736512  10.769000     11.722  10.43575   \n",
      "66  CLMT  2021-04-01   6.240000   6.032505   5.438154      6.018   5.38800   \n",
      "12  FNKO  2021-04-01  20.959999  19.843013  17.833937     19.624  17.57250   \n",
      "89   ADV  2021-04-01  12.010000  11.838294  11.035426     11.854  10.72100   \n",
      "\n",
      "    ewa_change  sma_change  \n",
      "58  162.292517  273.603641  \n",
      "3    18.299022   30.974996  \n",
      "4    11.519177   23.133032  \n",
      "2    12.883800   18.822781  \n",
      "79   18.642594   17.654681  \n",
      "0    14.714826   16.409434  \n",
      "14    8.984231   12.325420  \n",
      "66   10.929277   11.692649  \n",
      "12   11.265464   11.674491  \n",
      "89    7.275373   10.568045  \n"
     ]
    }
   ],
   "source": [
    "print(final_screened.head(10))"
   ]
  },
  {
   "cell_type": "code",
   "execution_count": null,
   "id": "corrected-magic",
   "metadata": {},
   "outputs": [],
   "source": []
  }
 ],
 "metadata": {
  "kernelspec": {
   "display_name": "Python 3",
   "language": "python",
   "name": "python3"
  },
  "language_info": {
   "codemirror_mode": {
    "name": "ipython",
    "version": 3
   },
   "file_extension": ".py",
   "mimetype": "text/x-python",
   "name": "python",
   "nbconvert_exporter": "python",
   "pygments_lexer": "ipython3",
   "version": "3.9.1"
  }
 },
 "nbformat": 4,
 "nbformat_minor": 5
}
