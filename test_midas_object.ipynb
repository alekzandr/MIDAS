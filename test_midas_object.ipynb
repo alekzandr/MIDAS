{
 "cells": [
  {
   "cell_type": "code",
   "execution_count": 1,
   "id": "pending-lawrence",
   "metadata": {},
   "outputs": [],
   "source": [
    "import midas as m\n",
    "import shutil"
   ]
  },
  {
   "cell_type": "code",
   "execution_count": 2,
   "id": "confused-recruitment",
   "metadata": {},
   "outputs": [],
   "source": [
    "midas = m.Midas()"
   ]
  },
  {
   "cell_type": "code",
   "execution_count": 3,
   "id": "streaming-shoulder",
   "metadata": {},
   "outputs": [],
   "source": [
    "assert midas.get_stocks() == []\n",
    "assert midas.selected_stocks == None"
   ]
  },
  {
   "cell_type": "code",
   "execution_count": 4,
   "id": "alternate-samba",
   "metadata": {},
   "outputs": [],
   "source": [
    "test_path = \"test_path\"\n",
    "midas.set_stock_data(test_path)\n",
    "assert midas.get_stock_data() == test_path\n",
    "assert midas.stock_data_path == test_path"
   ]
  },
  {
   "cell_type": "code",
   "execution_count": 5,
   "id": "french-french",
   "metadata": {},
   "outputs": [],
   "source": [
    "test_stocks = ['OAS', 'AAPL', '7894']\n",
    "midas.set_selected_stocks(test_stocks)\n",
    "assert midas.get_selected_stocks() == test_stocks\n",
    "assert midas.selected_stocks == test_stocks"
   ]
  },
  {
   "cell_type": "code",
   "execution_count": 6,
   "id": "related-heating",
   "metadata": {},
   "outputs": [
    {
     "name": "stdout",
     "output_type": "stream",
     "text": [
      "[-] Started at 2021-07-10 15:26:54.580282\n",
      "- 7894: No data found, symbol may be delisted\n",
      "[+] Completed at 2021-07-10 15:26:55.783521\n",
      "[*] Total Time: 0:00:01.203239\n",
      "The amount of stocks we successfully imported: 2\n"
     ]
    }
   ],
   "source": [
    "midas.download_stocks()"
   ]
  },
  {
   "cell_type": "code",
   "execution_count": 7,
   "id": "egyptian-checkout",
   "metadata": {},
   "outputs": [
    {
     "data": {
      "text/plain": [
       "['AAPL', 'OAS']"
      ]
     },
     "execution_count": 7,
     "metadata": {},
     "output_type": "execute_result"
    }
   ],
   "source": [
    "midas.get_selected_stocks()"
   ]
  },
  {
   "cell_type": "code",
   "execution_count": null,
   "id": "adapted-berkeley",
   "metadata": {},
   "outputs": [],
   "source": []
  }
 ],
 "metadata": {
  "kernelspec": {
   "display_name": "Python 3",
   "language": "python",
   "name": "python3"
  },
  "language_info": {
   "codemirror_mode": {
    "name": "ipython",
    "version": 3
   },
   "file_extension": ".py",
   "mimetype": "text/x-python",
   "name": "python",
   "nbconvert_exporter": "python",
   "pygments_lexer": "ipython3",
   "version": "3.9.1"
  }
 },
 "nbformat": 4,
 "nbformat_minor": 5
}
