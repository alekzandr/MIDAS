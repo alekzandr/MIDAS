{
 "cells": [
  {
   "cell_type": "code",
   "execution_count": 1,
   "metadata": {},
   "outputs": [],
   "source": [
    "import yfinance as yf, pandas as pd, shutil, os, time, glob, smtplib, ssl\n",
    "from datetime import datetime\n",
    "from get_all_tickers import get_tickers as gt"
   ]
  },
  {
   "cell_type": "code",
   "execution_count": 12,
   "metadata": {},
   "outputs": [],
   "source": [
    "target_date = \"2019-01-22\"\n",
    "num_days_analyze = 10\n",
    "num_days_since_begin_prev_week = 5"
   ]
  },
  {
   "cell_type": "code",
   "execution_count": 13,
   "metadata": {},
   "outputs": [],
   "source": [
    "# OBV Analysis, feel free to replace this section with your own analysis -------------------------------------------------------------------------\n",
    "list_files = (glob.glob(\"/Users/kyletopasna/Documents/robinhood/Daily_Stock_Report/Stocks/*.csv\")) # Creates a list of all csv filenames in the stocks folder\n",
    "new_data = [] #  This will be a 2D array to hold our stock name and OBV score\n",
    "interval = 0  # Used for iteration\n",
    "while interval < len(list_files):\n",
    "    file = list_files[interval]\n",
    "    #print(file)\n",
    "    \n",
    "    Data = pd.read_csv(file)# Gets the last 10 days of trading for the current stock in iteration\n",
    "    if len(Data) < num_days_analyze:\n",
    "        interval += 1\n",
    "    else:\n",
    "        if len(Data.loc[Data['Date']==target_date].index) == 0:\n",
    "            #print(Data.tail(1))\n",
    "            interval +=1\n",
    "        else:\n",
    "            #print(Data.loc[Data['Date']==target_date].index)\n",
    "            start_date_idx = (Data.loc[Data['Date']==target_date].index - num_days_analyze)[0]\n",
    "            end_date_idx = (Data.loc[Data['Date']==target_date].index)[0]\n",
    "            Data = Data.iloc[start_date_idx:end_date_idx]\n",
    "            if len(Data) < num_days_analyze:\n",
    "                interval +=1\n",
    "            else:\n",
    "                pos_move = []  # List of days that the stock price increased\n",
    "                neg_move = []  # List of days that the stock price increased\n",
    "                OBV_Value = 0  # Sets the initial OBV_Value to zero\n",
    "                count = 0\n",
    "                while (count < 10== num_days_analyze):  # 10 because we are looking at the last 10 trading days\n",
    "                    if Data.iloc[count,1] < Data.iloc[count,4]:  # True if the stock increased in price\n",
    "                        pos_move.append(count)  # Add the day to the pos_move list\n",
    "                    elif Data.iloc[count,1] > Data.iloc[count,4]:  # True if the stock decreased in price\n",
    "                        neg_move.append(count)  # Add the day to the neg_move list\n",
    "                    count += 1\n",
    "                count2 = 0\n",
    "                for i in pos_move:  # Adds the volumes of positive days to OBV_Value, divide by opening price to normalize across all stocks\n",
    "                    OBV_Value = round(OBV_Value + (Data.iloc[i,5]/Data.iloc[i,1]))\n",
    "                for i in neg_move:  # Subtracts the volumes of negative days from OBV_Value, divide by opening price to normalize across all stocks\n",
    "                    OBV_Value = round(OBV_Value - (Data.iloc[i,5]/Data.iloc[i,1]))\n",
    "                Stock_Name = ((os.path.basename(list_files[interval])).split(\".csv\")[0])  # Get the name of the current stock we are analyzing\n",
    "                new_data.append([Stock_Name, OBV_Value])  # Add the stock name and OBV value to the new_data list\n",
    "                #print(new_data[-1])\n",
    "                interval += 1"
   ]
  },
  {
   "cell_type": "code",
   "execution_count": 14,
   "metadata": {},
   "outputs": [],
   "source": [
    "df = pd.DataFrame(new_data, columns = ['Stock', 'OBV_Value'])  # Creates a new dataframe from the new_data list\n",
    "df[\"Stocks_Ranked\"] = df[\"OBV_Value\"].rank(ascending = False)  # Rank the stocks by their OBV_Values\n",
    "df.sort_values(\"OBV_Value\", inplace = True, ascending = False)  # Sort the ranked stocks\n",
    "df.to_csv(\"/Users/kyletopasna/Documents/robinhood/Daily_Stock_Report/Targeted_OBV_Ranked.csv\", index = False)  # Save the dataframe to a csv without the index column\n",
    "# OBV_Ranked.csv now contains the ranked stocks that we want recalculate daily and receive in a digestable format.\n",
    "\n",
    "# Code to email yourself your anaysis -----------------------------------------------------------------------------------\n",
    "Analysis = pd.read_csv(\"/Users/kyletopasna/Documents/robinhood/Daily_Stock_Report/Targeted_OBV_Ranked.csv\")  # Read in the ranked stocks"
   ]
  },
  {
   "cell_type": "code",
   "execution_count": 15,
   "metadata": {},
   "outputs": [
    {
     "name": "stdout",
     "output_type": "stream",
     "text": [
      "['/Users/kyletopasna/Documents/robinhood/Daily_Stock_Report/Stocks/LYG.csv', '/Users/kyletopasna/Documents/robinhood/Daily_Stock_Report/Stocks/ABEV.csv', '/Users/kyletopasna/Documents/robinhood/Daily_Stock_Report/Stocks/BAC.csv', '/Users/kyletopasna/Documents/robinhood/Daily_Stock_Report/Stocks/GE.csv', '/Users/kyletopasna/Documents/robinhood/Daily_Stock_Report/Stocks/SWN.csv']\n"
     ]
    }
   ],
   "source": [
    "top_10 = Analysis['Stock'].head(5)\n",
    "list_files = []\n",
    "for stock in top_10:\n",
    "    list_files.append(\"/Users/kyletopasna/Documents/robinhood/Daily_Stock_Report/Stocks/\" + stock + \".csv\")\n",
    "print(list_files)"
   ]
  },
  {
   "cell_type": "code",
   "execution_count": 16,
   "metadata": {},
   "outputs": [
    {
     "name": "stdout",
     "output_type": "stream",
     "text": [
      "            Date      Open      High       Low     Close    Volume  Dividends  \\\n",
      "4310  2019-01-14  2.425504  2.539336  2.416747  2.504311  16730700        0.0   \n",
      "4311  2019-01-15  2.478042  2.486798  2.416748  2.478042  13479400        0.0   \n",
      "4312  2019-01-16  2.495554  2.539336  2.495554  2.513067  15687100        0.0   \n",
      "4313  2019-01-17  2.513067  2.548093  2.504311  2.530580   8546200        0.0   \n",
      "4314  2019-01-18  2.591874  2.618143  2.574362  2.600631   8695400        0.0   \n",
      "4315  2019-01-22  2.574362  2.591874  2.565605  2.583118   8450200        0.0   \n",
      "\n",
      "      Stock Splits  \n",
      "4310           0.0  \n",
      "4311           0.0  \n",
      "4312           0.0  \n",
      "4313           0.0  \n",
      "4314           0.0  \n",
      "4315           0.0  \n",
      "            Date      Open      High       Low     Close    Volume  Dividends  \\\n",
      "5501  2019-01-14  4.405390  4.443205  4.367576  4.414844  34416900        0.0   \n",
      "5502  2019-01-15  4.443205  4.490473  4.433751  4.471566  41402300        0.0   \n",
      "5503  2019-01-16  4.452658  4.499927  4.405390  4.433751  25838800        0.0   \n",
      "5504  2019-01-17  4.395937  4.499927  4.377029  4.481019  24061900        0.0   \n",
      "5505  2019-01-18  4.490473  4.499927  4.424297  4.490473  17804600        0.0   \n",
      "5506  2019-01-22  4.462111  4.490472  4.291946  4.320307  27176300        0.0   \n",
      "\n",
      "      Stock Splits  \n",
      "5501           0.0  \n",
      "5502           0.0  \n",
      "5503           0.0  \n",
      "5504           0.0  \n",
      "5505           0.0  \n",
      "5506           0.0  \n",
      "             Date       Open       High        Low      Close       Volume  \\\n",
      "11578  2019-01-14  24.538667  25.214741  24.386313  25.109999   76715400.0   \n",
      "11579  2019-01-15  24.957642  25.528974  24.805288  25.281397   80625500.0   \n",
      "11580  2019-01-16  26.785903  27.347712  26.528805  27.090614  163131700.0   \n",
      "11581  2019-01-17  26.985867  27.614331  26.747813  27.604809  107428800.0   \n",
      "11582  2019-01-18  27.633378  28.052353  27.338189  27.899998   97928200.0   \n",
      "11583  2019-01-22  27.595289  27.899998  27.509589  27.700033   84861400.0   \n",
      "\n",
      "       Dividends  Stock Splits  \n",
      "11578        0.0           0.0  \n",
      "11579        0.0           0.0  \n",
      "11580        0.0           0.0  \n",
      "11581        0.0           0.0  \n",
      "11582        0.0           0.0  \n",
      "11583        0.0           0.0  \n",
      "             Date      Open      High       Low     Close     Volume  \\\n",
      "14356  2019-01-14  8.394675  8.575717  8.347031  8.480432   84945200   \n",
      "14357  2019-01-15  8.489960  8.509017  8.289861  8.318446   97820500   \n",
      "14358  2019-01-16  8.299389  8.575717  8.251746  8.556660   87636300   \n",
      "14359  2019-01-17  8.480431  8.756760  8.337503  8.709117  110023800   \n",
      "14360  2019-01-18  8.794874  8.813931  8.604302  8.632888   96443800   \n",
      "14361  2019-01-22  8.556659  8.566188  8.156459  8.251745  112498800   \n",
      "\n",
      "       Dividends  Stock Splits  \n",
      "14356        0.0           0.0  \n",
      "14357        0.0           0.0  \n",
      "14358        0.0           0.0  \n",
      "14359        0.0           0.0  \n",
      "14360        0.0           0.0  \n",
      "14361        0.0           0.0  \n",
      "            Date  Open  High   Low  Close    Volume  Dividends  Stock Splits\n",
      "9791  2019-01-14  4.29  4.47  4.29   4.38  17454500        0.0           0.0\n",
      "9792  2019-01-15  4.41  4.49  4.34   4.41  12720900        0.0           0.0\n",
      "9793  2019-01-16  4.38  4.51  4.36   4.39  18338200        0.0           0.0\n",
      "9794  2019-01-17  4.35  4.48  4.31   4.45  12544500        0.0           0.0\n",
      "9795  2019-01-18  4.50  4.65  4.47   4.59  16633700        0.0           0.0\n",
      "9796  2019-01-22  4.53  4.55  4.26   4.27  17075600        0.0           0.0\n"
     ]
    }
   ],
   "source": [
    "interval = 0  # Used for iteration\n",
    "composite_fund = []\n",
    "while interval < len(list_files):\n",
    "    file = list_files[interval]\n",
    "    Data = pd.read_csv(file)\n",
    "    start_date_idx = (Data.loc[Data['Date']==target_date].index - num_days_since_begin_prev_week)[0]\n",
    "    end_date_idx = (Data.loc[Data['Date']==target_date].index)[0]\n",
    "    Data = Data.iloc[start_date_idx:end_date_idx+1]\n",
    "    print(Data)\n",
    "    open_price = Data.iloc[0,1]\n",
    "    close_price = Data.iloc[-1,1]\n",
    "    stock_name = ((os.path.basename(list_files[interval])).split(\".csv\")[0])\n",
    "    percent_change = ((close_price - open_price) / open_price) * 100\n",
    "    composite_fund.append([stock_name, percent_change])\n",
    "    interval +=1"
   ]
  },
  {
   "cell_type": "code",
   "execution_count": 17,
   "metadata": {},
   "outputs": [
    {
     "data": {
      "text/plain": [
       "5.481020127310072"
      ]
     },
     "execution_count": 17,
     "metadata": {},
     "output_type": "execute_result"
    }
   ],
   "source": [
    "composite_fund=pd.DataFrame(composite_fund, columns = ['Stock', 'Pct_Change'])\n",
    "composite_fund['Pct_Change'].mean()"
   ]
  },
  {
   "cell_type": "code",
   "execution_count": 41,
   "metadata": {},
   "outputs": [
    {
     "data": {
      "text/html": [
       "<div>\n",
       "<style scoped>\n",
       "    .dataframe tbody tr th:only-of-type {\n",
       "        vertical-align: middle;\n",
       "    }\n",
       "\n",
       "    .dataframe tbody tr th {\n",
       "        vertical-align: top;\n",
       "    }\n",
       "\n",
       "    .dataframe thead th {\n",
       "        text-align: right;\n",
       "    }\n",
       "</style>\n",
       "<table border=\"1\" class=\"dataframe\">\n",
       "  <thead>\n",
       "    <tr style=\"text-align: right;\">\n",
       "      <th></th>\n",
       "      <th>Stock</th>\n",
       "      <th>Pct_Change</th>\n",
       "    </tr>\n",
       "  </thead>\n",
       "  <tbody>\n",
       "  </tbody>\n",
       "</table>\n",
       "</div>"
      ],
      "text/plain": [
       "Empty DataFrame\n",
       "Columns: [Stock, Pct_Change]\n",
       "Index: []"
      ]
     },
     "execution_count": 41,
     "metadata": {},
     "output_type": "execute_result"
    }
   ],
   "source": [
    "composite_fund"
   ]
  },
  {
   "cell_type": "raw",
   "metadata": {},
   "source": [
    "['C:\\\\Users\\\\kylet\\\\Documents\\\\robinhood\\\\Daily_Stock_Report\\\\Stocks\\\\ABEV.csv', 'C:\\\\Users\\\\kylet\\\\Documents\\\\robinhood\\\\Daily_Stock_Report\\\\Stocks\\\\RIG.csv', 'C:\\\\Users\\\\kylet\\\\Documents\\\\robinhood\\\\Daily_Stock_Report\\\\Stocks\\\\GE.csv', 'C:\\\\Users\\\\kylet\\\\Documents\\\\robinhood\\\\Daily_Stock_Report\\\\Stocks\\\\RIOT.csv', 'C:\\\\Users\\\\kylet\\\\Documents\\\\robinhood\\\\Daily_Stock_Report\\\\Stocks\\\\CIG.csv', 'C:\\\\Users\\\\kylet\\\\Documents\\\\robinhood\\\\Daily_Stock_Report\\\\Stocks\\\\VALE.csv', 'C:\\\\Users\\\\kylet\\\\Documents\\\\robinhood\\\\Daily_Stock_Report\\\\Stocks\\\\AAL.csv', 'C:\\\\Users\\\\kylet\\\\Documents\\\\robinhood\\\\Daily_Stock_Report\\\\Stocks\\\\ZNGA.csv', 'C:\\\\Users\\\\kylet\\\\Documents\\\\robinhood\\\\Daily_Stock_Report\\\\Stocks\\\\LYG.csv', 'C:\\\\Users\\\\kylet\\\\Documents\\\\robinhood\\\\Daily_Stock_Report\\\\Stocks\\\\CX.csv']"
   ]
  }
 ],
 "metadata": {
  "kernelspec": {
   "display_name": "Python 3",
   "language": "python",
   "name": "python3"
  },
  "language_info": {
   "codemirror_mode": {
    "name": "ipython",
    "version": 3
   },
   "file_extension": ".py",
   "mimetype": "text/x-python",
   "name": "python",
   "nbconvert_exporter": "python",
   "pygments_lexer": "ipython3",
   "version": "3.9.1"
  }
 },
 "nbformat": 4,
 "nbformat_minor": 4
}
